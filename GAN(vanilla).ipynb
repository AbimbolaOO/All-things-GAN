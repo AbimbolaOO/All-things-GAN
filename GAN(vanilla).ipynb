{
  "nbformat": 4,
  "nbformat_minor": 0,
  "metadata": {
    "colab": {
      "name": "GAN(vanilla).ipynb",
      "version": "0.3.2",
      "provenance": [],
      "collapsed_sections": []
    },
    "kernelspec": {
      "name": "python3",
      "display_name": "Python 3"
    },
    "accelerator": "GPU"
  },
  "cells": [
    {
      "cell_type": "code",
      "metadata": {
        "id": "VDAMwkeGJF3b",
        "colab_type": "code",
        "colab": {}
      },
      "source": [
        "import torch\n",
        "import torch.nn as nn\n",
        "import torch.nn.functional as F\n",
        "import torchvision\n",
        "from torchvision import datasets, transforms\n",
        "import numpy as np\n",
        "import matplotlib.pyplot as plt"
      ],
      "execution_count": 0,
      "outputs": []
    },
    {
      "cell_type": "code",
      "metadata": {
        "id": "u7UyQ5P2ahs6",
        "colab_type": "code",
        "colab": {}
      },
      "source": [
        "import pickle"
      ],
      "execution_count": 0,
      "outputs": []
    },
    {
      "cell_type": "code",
      "metadata": {
        "id": "B60zgY_d12XL",
        "colab_type": "code",
        "colab": {}
      },
      "source": [
        "transforms = transforms.Compose([transforms.ToTensor(),\n",
        "                                transforms.Normalize(mean=[0.5], std=[0.5])])\n",
        "\n",
        "train_data = datasets.MNIST(root='./',transform=transforms, download=True)"
      ],
      "execution_count": 0,
      "outputs": []
    },
    {
      "cell_type": "code",
      "metadata": {
        "id": "jamRpHFP2uTK",
        "colab_type": "code",
        "colab": {}
      },
      "source": [
        "train_data_loader = torch.utils.data.DataLoader(train_data, batch_size=32, shuffle=True)"
      ],
      "execution_count": 0,
      "outputs": []
    },
    {
      "cell_type": "code",
      "metadata": {
        "id": "RDTym4RJ-F0j",
        "colab_type": "code",
        "colab": {}
      },
      "source": [
        "images, labels = next(iter(train_data_loader))"
      ],
      "execution_count": 0,
      "outputs": []
    },
    {
      "cell_type": "code",
      "metadata": {
        "id": "UBC7Nv1oJwSW",
        "colab_type": "code",
        "outputId": "fe21aad9-0a48-4fb3-812e-2b733b481ea0",
        "colab": {
          "base_uri": "https://localhost:8080/",
          "height": 34
        }
      },
      "source": [
        "images.shape\n"
      ],
      "execution_count": 0,
      "outputs": [
        {
          "output_type": "execute_result",
          "data": {
            "text/plain": [
              "torch.Size([32, 1, 28, 28])"
            ]
          },
          "metadata": {
            "tags": []
          },
          "execution_count": 21
        }
      ]
    },
    {
      "cell_type": "code",
      "metadata": {
        "id": "O_W3UspH-Hm6",
        "colab_type": "code",
        "outputId": "a5338dfc-f4c4-4134-dd09-868bafb6c4e6",
        "colab": {
          "base_uri": "https://localhost:8080/",
          "height": 364
        }
      },
      "source": [
        "def image_display(image, title=None):\n",
        "    image = image/2 + 0.5\n",
        "    numpy_image = image.numpy()\n",
        "    transposed_numpy_image = np.transpose(numpy_image, (1, 2, 0))\n",
        "    plt.figure(figsize=(30, 6))\n",
        "    plt.imshow(transposed_numpy_image)\n",
        "    plt.yticks([])\n",
        "    plt.xticks([])\n",
        "    if title:\n",
        "        plt.title(title)\n",
        "    plt.show\n",
        "    \n",
        "image_display(torchvision.utils.make_grid(images))"
      ],
      "execution_count": 0,
      "outputs": [
        {
          "output_type": "display_data",
          "data": {
            "image/png": "[encoded data removed]",
            "text/plain": [
              "<Figure size 2160x432 with 1 Axes>"
            ]
          },
          "metadata": {
            "tags": []
          }
        }
      ]
    },
    {
      "cell_type": "code",
      "metadata": {
        "id": "gdzKuTxgzIqB",
        "colab_type": "code",
        "colab": {}
      },
      "source": [
        "device = torch.device('cuda:0' if torch.cuda.is_available() else 'cpu')"
      ],
      "execution_count": 0,
      "outputs": []
    },
    {
      "cell_type": "code",
      "metadata": {
        "id": "8dTI31GLiYLP",
        "colab_type": "code",
        "outputId": "fb118ce6-e8ee-42ca-bc55-0da35e55777e",
        "colab": {
          "base_uri": "https://localhost:8080/",
          "height": 34
        }
      },
      "source": [
        "device"
      ],
      "execution_count": 0,
      "outputs": [
        {
          "output_type": "execute_result",
          "data": {
            "text/plain": [
              "device(type='cuda', index=0)"
            ]
          },
          "metadata": {
            "tags": []
          },
          "execution_count": 55
        }
      ]
    },
    {
      "cell_type": "code",
      "metadata": {
        "id": "MlLGpToJ-Iun",
        "colab_type": "code",
        "colab": {}
      },
      "source": [
        "class Generator(nn.Module):\n",
        "    \n",
        "    def __init__(self):\n",
        "        \n",
        "        super(Generator, self).__init__()\n",
        "        \n",
        "        latent_space_size = 100\n",
        "        \n",
        "        number_output = 28*28\n",
        "        \n",
        "        self.first_hidden_layer = nn.Sequential(nn.Linear(latent_space_size, 256),\n",
        "                                                nn.LeakyReLU(0.2))\n",
        "        \n",
        "        self.second_hidden_layer = nn.Sequential(nn.Linear(256, 512),\n",
        "                                                 nn.LeakyReLU(0.2))\n",
        "        \n",
        "        self.third_hidden_layer = nn.Sequential(nn.Linear(512, 1024),\n",
        "                                                nn.LeakyReLU(0.2))\n",
        "        \n",
        "        self.output_layer = nn.Sequential(nn.Linear(1024, number_output),\n",
        "                                         nn.Tanh())\n",
        "        \n",
        "        \n",
        "    def forward(self, x):\n",
        "        \n",
        "        x = x.view(x.size(0), -1)\n",
        "\n",
        "        x = self.first_hidden_layer(x)   \n",
        "        \n",
        "        x = self.second_hidden_layer(x)\n",
        "        \n",
        "        x = self.third_hidden_layer(x)\n",
        "        \n",
        "        generator_output = self.output_layer(x)\n",
        "        \n",
        "        return generator_output"
      ],
      "execution_count": 0,
      "outputs": []
    },
    {
      "cell_type": "code",
      "metadata": {
        "id": "MOY9PYpxtoWF",
        "colab_type": "code",
        "colab": {}
      },
      "source": [
        "class Discriminator(nn.Module):\n",
        "    \n",
        "    def __init__(self):\n",
        "        \n",
        "        num_classes = 1        \n",
        "        \n",
        "        size_of_flatten_input = 28*28\n",
        "        \n",
        "        drop_out_percentage = 0.3\n",
        "        \n",
        "        super(Discriminator, self).__init__()\n",
        "        \n",
        "        self.first_hidden_layer = nn.Sequential(nn.Linear(size_of_flatten_input, 1024),\n",
        "                                                nn.LeakyReLU(0.2),\n",
        "                                                nn.Dropout(p=drop_out_percentage))\n",
        "        \n",
        "        self.second_hidden_layer = nn.Sequential(nn.Linear(1024, 512),\n",
        "                                                nn.LeakyReLU(0.2),\n",
        "                                                nn.Dropout(p=drop_out_percentage))\n",
        "        \n",
        "        self.third_hidden_layer = nn.Sequential(nn.Linear(512, 256),\n",
        "                                                nn.LeakyReLU(0.2),\n",
        "                                                nn.Dropout(p=drop_out_percentage))\n",
        "        \n",
        "        self.output_layer = nn.Sequential(nn.Linear(256, 1))\n",
        "        \n",
        "    def forward(self, x):\n",
        "        \n",
        "        x = x.view(x.size(0), -1)\n",
        "        \n",
        "        x = self.first_hidden_layer(x)   \n",
        "        \n",
        "        x = self.second_hidden_layer(x)\n",
        "        \n",
        "        x = self.third_hidden_layer(x)\n",
        "        \n",
        "        discriminator_output = self.output_layer(x)\n",
        "        \n",
        "        return discriminator_output\n",
        "        \n",
        "        \n",
        "    "
      ],
      "execution_count": 0,
      "outputs": []
    },
    {
      "cell_type": "code",
      "metadata": {
        "id": "52FKD80Ea2Ta",
        "colab_type": "code",
        "colab": {}
      },
      "source": [
        "G = Generator().to(device)\n",
        "D = Discriminator().to(device)"
      ],
      "execution_count": 0,
      "outputs": []
    },
    {
      "cell_type": "code",
      "metadata": {
        "id": "cZ0LVCf_XAy6",
        "colab_type": "code",
        "outputId": "03ecbec7-63a8-4950-8c2f-cfb235be0b92",
        "colab": {
          "base_uri": "https://localhost:8080/",
          "height": 357
        }
      },
      "source": [
        "D"
      ],
      "execution_count": 0,
      "outputs": [
        {
          "output_type": "execute_result",
          "data": {
            "text/plain": [
              "Discriminator(\n",
              "  (first_hidden_layer): Sequential(\n",
              "    (0): Linear(in_features=784, out_features=1024, bias=True)\n",
              "    (1): LeakyReLU(negative_slope=0.2)\n",
              "    (2): Dropout(p=0.3)\n",
              "  )\n",
              "  (second_hidden_layer): Sequential(\n",
              "    (0): Linear(in_features=1024, out_features=512, bias=True)\n",
              "    (1): LeakyReLU(negative_slope=0.2)\n",
              "    (2): Dropout(p=0.3)\n",
              "  )\n",
              "  (third_hidden_layer): Sequential(\n",
              "    (0): Linear(in_features=512, out_features=256, bias=True)\n",
              "    (1): LeakyReLU(negative_slope=0.2)\n",
              "    (2): Dropout(p=0.3)\n",
              "  )\n",
              "  (output_layer): Sequential(\n",
              "    (0): Linear(in_features=256, out_features=1, bias=True)\n",
              "  )\n",
              ")"
            ]
          },
          "metadata": {
            "tags": []
          },
          "execution_count": 59
        }
      ]
    },
    {
      "cell_type": "code",
      "metadata": {
        "id": "uAa99oiYWvJu",
        "colab_type": "code",
        "outputId": "d47f25bf-fd7a-4d0c-9e0d-de203a381410",
        "colab": {
          "base_uri": "https://localhost:8080/",
          "height": 323
        }
      },
      "source": [
        "G"
      ],
      "execution_count": 0,
      "outputs": [
        {
          "output_type": "execute_result",
          "data": {
            "text/plain": [
              "Generator(\n",
              "  (first_hidden_layer): Sequential(\n",
              "    (0): Linear(in_features=100, out_features=256, bias=True)\n",
              "    (1): LeakyReLU(negative_slope=0.2)\n",
              "  )\n",
              "  (second_hidden_layer): Sequential(\n",
              "    (0): Linear(in_features=256, out_features=512, bias=True)\n",
              "    (1): LeakyReLU(negative_slope=0.2)\n",
              "  )\n",
              "  (third_hidden_layer): Sequential(\n",
              "    (0): Linear(in_features=512, out_features=1024, bias=True)\n",
              "    (1): LeakyReLU(negative_slope=0.2)\n",
              "  )\n",
              "  (output_layer): Sequential(\n",
              "    (0): Linear(in_features=1024, out_features=784, bias=True)\n",
              "    (1): Tanh()\n",
              "  )\n",
              ")"
            ]
          },
          "metadata": {
            "tags": []
          },
          "execution_count": 60
        }
      ]
    },
    {
      "cell_type": "code",
      "metadata": {
        "id": "gL5pbEe3MHR7",
        "colab_type": "code",
        "colab": {}
      },
      "source": [
        "D_learning_rate = 0.002\n",
        "G_learning_rate = 0.0002\n",
        "optimizer_generator = torch.optim.Adam(G.parameters(), lr=G_learning_rate)\n",
        "optimizer_discriminator = torch.optim.Adam(D.parameters(), lr=D_learning_rate)\n",
        "criteria = nn.BCEWithLogitsLoss()"
      ],
      "execution_count": 0,
      "outputs": []
    },
    {
      "cell_type": "code",
      "metadata": {
        "id": "lNop9MrGr_bf",
        "colab_type": "code",
        "colab": {}
      },
      "source": [
        "def real_loss(discriminator_output):\n",
        "    \n",
        "    true_target = torch.ones(discriminator_output.size(0), 1).to(device)\n",
        "    loss = criteria(discriminator_output, true_target)\n",
        "    \n",
        "    return loss\n",
        "    \n",
        "    \n",
        "    \n",
        "def fake_loss(discriminator_output):\n",
        "    \n",
        "    true_target = torch.zeros(discriminator_output.size(0), 1).to(device)\n",
        "    loss = criteria(discriminator_output, true_target)\n",
        "    \n",
        "    return loss\n",
        "\n",
        "# def real_loss(D_out, smooth=False):\n",
        "#     batch_size = D_out.size(0)\n",
        "#     # label smoothing\n",
        "#     if smooth:\n",
        "#         # smooth, real labels = 0.9\n",
        "#         labels = torch.ones(batch_size)*0.9\n",
        "#     else:\n",
        "#         labels = torch.ones(batch_size).to(device) # real labels = 1\n",
        "        \n",
        "#     # numerically stable loss\n",
        "#     criterion = nn.BCEWithLogitsLoss()\n",
        "#     # calculate loss\n",
        "#     loss = criterion(D_out.squeeze(), labels)\n",
        "#     return loss\n",
        "\n",
        "# def fake_loss(D_out):\n",
        "#     batch_size = D_out.size(0)\n",
        "#     labels = torch.zeros(batch_size).to(device) # fake labels = 0\n",
        "#     criterion = nn.BCEWithLogitsLoss()\n",
        "#     # calculate loss\n",
        "#     loss = criterion(D_out.squeeze(), labels)\n",
        "#     return loss"
      ],
      "execution_count": 0,
      "outputs": []
    },
    {
      "cell_type": "code",
      "metadata": {
        "id": "W6x7LuAhzxGc",
        "colab_type": "code",
        "colab": {}
      },
      "source": [
        "def latent_vector_creator():\n",
        "    random_numbers = np.random.uniform(-1, 1, size=(train_data_loader.batch_size, 100))\n",
        "    return torch.from_numpy(random_numbers).float().to(device)"
      ],
      "execution_count": 0,
      "outputs": []
    },
    {
      "cell_type": "code",
      "metadata": {
        "id": "JP7RrDjUvVsC",
        "colab_type": "code",
        "colab": {}
      },
      "source": [
        "def test_latent_vector(numbers_of_samples):\n",
        "    random_numbers = np.random.uniform(-1, 1, size=(numbers_of_samples, 100))\n",
        "    return torch.from_numpy(random_numbers).float().to(device)"
      ],
      "execution_count": 0,
      "outputs": []
    },
    {
      "cell_type": "code",
      "metadata": {
        "id": "3wXOijfpgS9B",
        "colab_type": "code",
        "outputId": "fc1a13d0-8a72-471d-da20-b07e0f4d581a",
        "colab": {
          "base_uri": "https://localhost:8080/",
          "height": 1000
        }
      },
      "source": [
        "number_of_epoch = 200\n",
        "discriminator_loss_array = []\n",
        "generator_loss_array = []\n",
        "generated_images_array = []\n",
        "\n",
        "for i in range(number_of_epoch):\n",
        "    \n",
        "    total_discriminator_loss = 0\n",
        "    total_generator_loss = 0\n",
        "    \n",
        "#   setting the network to training mode\n",
        "    D.train()\n",
        "    G.train()\n",
        "    \n",
        "    for real_images, _ in train_data_loader:\n",
        "        \n",
        "#       set the image values to be betwwen -1 and 1\n",
        "        real_images = real_images*2 - 1\n",
        "        \n",
        "        real_images = real_images.to(device)\n",
        "        \n",
        "#       Discriminator training code\n",
        "        optimizer_discriminator.zero_grad()\n",
        "\n",
        "#       The code below help to get the discriminator real loss  \n",
        "        discriminator_real_image_logit = D(real_images)\n",
        "        \n",
        "        discriminator_real_loss = real_loss(discriminator_real_image_logit)\n",
        "         \n",
        "#       The code below helps to get the discriminator fake loss\n",
        "        fake_outputs_from_generator = G(latent_vector_creator())\n",
        "        \n",
        "        discriminator_fake_image_logit = D(fake_outputs_from_generator)\n",
        "        \n",
        "        discriminator_fake_loss = fake_loss(discriminator_real_image_logit)\n",
        "        \n",
        "#       The discriminator loss\n",
        "        discriminator_loss = discriminator_real_loss + discriminator_fake_loss\n",
        "        \n",
        "        discriminator_loss.backward()\n",
        "        \n",
        "        optimizer_discriminator.step()\n",
        "        \n",
        "        total_discriminator_loss += discriminator_loss.item() * train_data_loader.batch_size\n",
        "#       End of discriminator training code\n",
        "#         \n",
        "#         \n",
        "#                    \n",
        "#       Generator training code\n",
        "        optimizer_generator.zero_grad()\n",
        "    \n",
        "#       The code below helps to get the generator loss\n",
        "        outputs_from_generator = G(latent_vector_creator())\n",
        "        \n",
        "        generator_logit = D(outputs_from_generator)\n",
        "          \n",
        "#       The generator loss\n",
        "        generator_loss = real_loss(generator_logit)\n",
        "        \n",
        "        generator_loss.backward()\n",
        "        \n",
        "        optimizer_generator.step()\n",
        "        \n",
        "        total_generator_loss += generator_loss.item() * train_data_loader.batch_size\n",
        "#       End of Generator training code\n",
        "# \n",
        "# \n",
        "#     \n",
        "#   This computes the total discriminator loss and also append it to an array\n",
        "    total_discriminator_loss_per_epoch = round(total_discriminator_loss/len(train_data_loader.dataset), 5)\n",
        "    discriminator_loss_array.append(total_discriminator_loss_per_epoch)\n",
        "    \n",
        "#   This computes the total generators loss and also append it to an array\n",
        "    total_generator_loss_per_epoch = round(total_generator_loss/len(train_data_loader.dataset), 5)\n",
        "    generator_loss_array.append(total_generator_loss_per_epoch)\n",
        "    \n",
        "#   print training results\n",
        "    print(f'{i+1}/{number_of_epoch} The generator loss: {total_generator_loss_per_epoch}... The discriminator loss: {total_discriminator_loss_per_epoch}')\n",
        "#     \n",
        "#     \n",
        "#     \n",
        "#   Here we will use the Generator to create fake images after each epoch to see it's performance \n",
        "    G.eval()\n",
        "    generated_samples = G(test_latent_vector(16))\n",
        "    generated_images_array.append(generated_samples)\n",
        "#     \n",
        "#     \n",
        "#    \n",
        "#   Here will dump the generated_images_array into a pickle\n",
        "with open('image_generated.pkl', 'wb') as f:\n",
        "    pickle.dump(generated_images_array, f)"
      ],
      "execution_count": 0,
      "outputs": [
        {
          "output_type": "stream",
          "text": [
            "1/200 The generator loss: 0.70949... The discriminator loss: 1.38634\n",
            "2/200 The generator loss: 0.70742... The discriminator loss: 1.40664\n",
            "3/200 The generator loss: 0.69375... The discriminator loss: 1.57991\n",
            "4/200 The generator loss: 0.6839... The discriminator loss: 1.38648\n",
            "5/200 The generator loss: 0.7109... The discriminator loss: 2.14608\n",
            "6/200 The generator loss: 0.71166... The discriminator loss: 1.38902\n",
            "7/200 The generator loss: 0.73324... The discriminator loss: 1.70141\n",
            "8/200 The generator loss: 0.71777... The discriminator loss: 1.38987\n",
            "9/200 The generator loss: 0.74855... The discriminator loss: 2.24308\n",
            "10/200 The generator loss: 0.70299... The discriminator loss: 1.38689\n",
            "11/200 The generator loss: 0.70497... The discriminator loss: 1.38776\n",
            "12/200 The generator loss: 0.72786... The discriminator loss: 1.85344\n",
            "13/200 The generator loss: 0.66993... The discriminator loss: 1.38631\n",
            "14/200 The generator loss: 0.71622... The discriminator loss: 2.1311\n",
            "15/200 The generator loss: 0.68355... The discriminator loss: 1.38767\n",
            "16/200 The generator loss: 0.70422... The discriminator loss: 1.69093\n",
            "17/200 The generator loss: 0.69331... The discriminator loss: 1.38694\n",
            "18/200 The generator loss: 0.74241... The discriminator loss: 2.15517\n",
            "19/200 The generator loss: 0.67544... The discriminator loss: 1.38794\n",
            "20/200 The generator loss: 0.71222... The discriminator loss: 2.24034\n",
            "21/200 The generator loss: 0.69828... The discriminator loss: 1.3863\n",
            "22/200 The generator loss: 0.70593... The discriminator loss: 1.41926\n",
            "23/200 The generator loss: 0.70467... The discriminator loss: 1.98757\n",
            "24/200 The generator loss: 0.70053... The discriminator loss: 1.3863\n",
            "25/200 The generator loss: 0.69867... The discriminator loss: 1.55957\n",
            "26/200 The generator loss: 0.7241... The discriminator loss: 1.63979\n",
            "27/200 The generator loss: 0.71134... The discriminator loss: 1.38865\n",
            "28/200 The generator loss: 0.70632... The discriminator loss: 1.39649\n",
            "29/200 The generator loss: 0.72799... The discriminator loss: 2.09724\n",
            "30/200 The generator loss: 0.68918... The discriminator loss: 1.38645\n",
            "31/200 The generator loss: 0.69119... The discriminator loss: 1.40358\n",
            "32/200 The generator loss: 0.67974... The discriminator loss: 1.43101\n",
            "33/200 The generator loss: 0.68189... The discriminator loss: 1.38659\n",
            "34/200 The generator loss: 0.71567... The discriminator loss: 2.20985\n",
            "35/200 The generator loss: 0.68642... The discriminator loss: 1.40895\n",
            "36/200 The generator loss: 0.68828... The discriminator loss: 1.3863\n",
            "37/200 The generator loss: 0.71962... The discriminator loss: 1.80626\n",
            "38/200 The generator loss: 0.70356... The discriminator loss: 1.38711\n",
            "39/200 The generator loss: 0.72019... The discriminator loss: 2.54744\n",
            "40/200 The generator loss: 0.69198... The discriminator loss: 1.38631\n",
            "41/200 The generator loss: 0.69982... The discriminator loss: 1.39404\n",
            "42/200 The generator loss: 0.71412... The discriminator loss: 1.52826\n",
            "43/200 The generator loss: 0.7093... The discriminator loss: 1.3874\n",
            "44/200 The generator loss: 0.79053... The discriminator loss: 4.12179\n",
            "45/200 The generator loss: 0.68131... The discriminator loss: 1.3883\n",
            "46/200 The generator loss: 0.68445... The discriminator loss: 2.00556\n",
            "47/200 The generator loss: 0.69593... The discriminator loss: 1.38638\n",
            "48/200 The generator loss: 0.69718... The discriminator loss: 1.38763\n",
            "49/200 The generator loss: 0.72518... The discriminator loss: 2.02886\n",
            "50/200 The generator loss: 0.70406... The discriminator loss: 1.38765\n",
            "51/200 The generator loss: 0.71172... The discriminator loss: 1.40803\n",
            "52/200 The generator loss: 0.70532... The discriminator loss: 1.38669\n",
            "53/200 The generator loss: 0.7842... The discriminator loss: 2.71891\n",
            "54/200 The generator loss: 0.72981... The discriminator loss: 1.41162\n",
            "55/200 The generator loss: 0.73228... The discriminator loss: 1.42193\n",
            "56/200 The generator loss: 0.69803... The discriminator loss: 1.38629\n",
            "57/200 The generator loss: 0.751... The discriminator loss: 3.03308\n",
            "58/200 The generator loss: 0.70361... The discriminator loss: 1.38669\n",
            "59/200 The generator loss: 0.70686... The discriminator loss: 1.40537\n",
            "60/200 The generator loss: 0.76635... The discriminator loss: 2.26583\n",
            "61/200 The generator loss: 0.6765... The discriminator loss: 1.3863\n",
            "62/200 The generator loss: 0.68318... The discriminator loss: 1.38894\n",
            "63/200 The generator loss: 0.68616... The discriminator loss: 1.53241\n",
            "64/200 The generator loss: 0.67611... The discriminator loss: 1.38674\n",
            "65/200 The generator loss: 0.71846... The discriminator loss: 2.75999\n",
            "66/200 The generator loss: 0.67639... The discriminator loss: 1.39946\n",
            "67/200 The generator loss: 0.71518... The discriminator loss: 2.53911\n",
            "68/200 The generator loss: 0.7259... The discriminator loss: 1.38638\n",
            "69/200 The generator loss: 0.71289... The discriminator loss: 1.3863\n",
            "70/200 The generator loss: 0.74969... The discriminator loss: 1.9506\n",
            "71/200 The generator loss: 0.70811... The discriminator loss: 1.38724\n",
            "72/200 The generator loss: 0.71305... The discriminator loss: 1.73863\n",
            "73/200 The generator loss: 0.69809... The discriminator loss: 1.40436\n",
            "74/200 The generator loss: 0.67851... The discriminator loss: 1.3863\n",
            "75/200 The generator loss: 0.71842... The discriminator loss: 1.82067\n",
            "76/200 The generator loss: 0.71024... The discriminator loss: 1.38651\n",
            "77/200 The generator loss: 0.69601... The discriminator loss: 1.41639\n",
            "78/200 The generator loss: 0.69417... The discriminator loss: 1.38682\n",
            "79/200 The generator loss: 0.71999... The discriminator loss: 3.04802\n",
            "80/200 The generator loss: 0.68423... The discriminator loss: 1.40302\n",
            "81/200 The generator loss: 0.67836... The discriminator loss: 1.4403\n",
            "82/200 The generator loss: 0.67989... The discriminator loss: 1.38693\n",
            "83/200 The generator loss: 0.70388... The discriminator loss: 1.52432\n",
            "84/200 The generator loss: 0.68975... The discriminator loss: 1.38672\n",
            "85/200 The generator loss: 0.71947... The discriminator loss: 2.34505\n",
            "86/200 The generator loss: 0.68695... The discriminator loss: 1.39594\n",
            "87/200 The generator loss: 0.71146... The discriminator loss: 1.61006\n",
            "88/200 The generator loss: 0.67277... The discriminator loss: 1.38635\n",
            "89/200 The generator loss: 0.72457... The discriminator loss: 2.05078\n",
            "90/200 The generator loss: 0.71107... The discriminator loss: 1.3863\n",
            "91/200 The generator loss: 0.70857... The discriminator loss: 1.39515\n",
            "92/200 The generator loss: 0.71533... The discriminator loss: 1.53285\n",
            "93/200 The generator loss: 0.67642... The discriminator loss: 1.3863\n",
            "94/200 The generator loss: 0.68196... The discriminator loss: 1.38677\n",
            "95/200 The generator loss: 0.74304... The discriminator loss: 2.23768\n",
            "96/200 The generator loss: 0.70698... The discriminator loss: 1.38686\n",
            "97/200 The generator loss: 0.70916... The discriminator loss: 1.55153\n",
            "98/200 The generator loss: 0.72793... The discriminator loss: 1.38682\n",
            "99/200 The generator loss: 0.72074... The discriminator loss: 1.38657\n",
            "100/200 The generator loss: 0.72804... The discriminator loss: 2.14587\n",
            "101/200 The generator loss: 0.67445... The discriminator loss: 1.38631\n",
            "102/200 The generator loss: 0.68798... The discriminator loss: 1.39187\n",
            "103/200 The generator loss: 0.69056... The discriminator loss: 1.45549\n",
            "104/200 The generator loss: 0.68487... The discriminator loss: 1.3863\n",
            "105/200 The generator loss: 0.73389... The discriminator loss: 2.41053\n",
            "106/200 The generator loss: 0.66884... The discriminator loss: 1.38641\n",
            "107/200 The generator loss: 0.67845... The discriminator loss: 1.38995\n",
            "108/200 The generator loss: 0.72103... The discriminator loss: 2.03145\n",
            "109/200 The generator loss: 0.71036... The discriminator loss: 1.39035\n",
            "110/200 The generator loss: 0.70872... The discriminator loss: 2.19241\n",
            "111/200 The generator loss: 0.67318... The discriminator loss: 1.38637\n",
            "112/200 The generator loss: 0.68166... The discriminator loss: 1.40725\n",
            "113/200 The generator loss: 0.67651... The discriminator loss: 1.38681\n",
            "114/200 The generator loss: 0.70673... The discriminator loss: 2.14829\n",
            "115/200 The generator loss: 0.67896... The discriminator loss: 1.3965\n",
            "116/200 The generator loss: 0.68672... The discriminator loss: 1.46992\n",
            "117/200 The generator loss: 0.66969... The discriminator loss: 1.3863\n",
            "118/200 The generator loss: 0.68067... The discriminator loss: 1.38679\n",
            "119/200 The generator loss: 0.70637... The discriminator loss: 2.19216\n",
            "120/200 The generator loss: 0.6927... The discriminator loss: 1.38798\n",
            "121/200 The generator loss: 0.71374... The discriminator loss: 1.43749\n",
            "122/200 The generator loss: 0.70948... The discriminator loss: 1.3866\n",
            "123/200 The generator loss: 0.75251... The discriminator loss: 2.03601\n",
            "124/200 The generator loss: 0.71173... The discriminator loss: 1.38792\n",
            "125/200 The generator loss: 0.70881... The discriminator loss: 1.5417\n",
            "126/200 The generator loss: 0.68065... The discriminator loss: 1.38714\n",
            "127/200 The generator loss: 0.73895... The discriminator loss: 2.35236\n",
            "128/200 The generator loss: 0.7121... The discriminator loss: 1.387\n",
            "129/200 The generator loss: 0.74534... The discriminator loss: 1.68049\n",
            "130/200 The generator loss: 0.72767... The discriminator loss: 1.38649\n",
            "131/200 The generator loss: 0.72173... The discriminator loss: 1.39714\n",
            "132/200 The generator loss: 0.70681... The discriminator loss: 1.3864\n",
            "133/200 The generator loss: 0.71654... The discriminator loss: 2.29031\n",
            "134/200 The generator loss: 0.70922... The discriminator loss: 1.387\n",
            "135/200 The generator loss: 0.71795... The discriminator loss: 1.46386\n",
            "136/200 The generator loss: 0.68185... The discriminator loss: 1.38631\n",
            "137/200 The generator loss: 0.68341... The discriminator loss: 1.38733\n",
            "138/200 The generator loss: 0.74608... The discriminator loss: 2.39195\n",
            "139/200 The generator loss: 0.69619... The discriminator loss: 1.4227\n",
            "140/200 The generator loss: 0.69459... The discriminator loss: 1.38679\n",
            "141/200 The generator loss: 0.69938... The discriminator loss: 2.01938\n",
            "142/200 The generator loss: 0.67965... The discriminator loss: 1.3864\n",
            "143/200 The generator loss: 0.77282... The discriminator loss: 1.65493\n",
            "144/200 The generator loss: 0.64351... The discriminator loss: 1.3863\n",
            "145/200 The generator loss: 0.67124... The discriminator loss: 2.13628\n",
            "146/200 The generator loss: 0.65419... The discriminator loss: 1.3881\n",
            "147/200 The generator loss: 0.68715... The discriminator loss: 1.69537\n",
            "148/200 The generator loss: 0.67083... The discriminator loss: 1.38704\n",
            "149/200 The generator loss: 0.73474... The discriminator loss: 1.9425\n",
            "150/200 The generator loss: 0.70626... The discriminator loss: 1.3863\n",
            "151/200 The generator loss: 0.71611... The discriminator loss: 1.3919\n",
            "152/200 The generator loss: 0.70448... The discriminator loss: 1.38722\n",
            "153/200 The generator loss: 0.77746... The discriminator loss: 2.67456\n",
            "154/200 The generator loss: 0.81023... The discriminator loss: 1.45583\n",
            "155/200 The generator loss: 0.74415... The discriminator loss: 1.38654\n",
            "156/200 The generator loss: 0.78035... The discriminator loss: 2.32862\n",
            "157/200 The generator loss: 0.68039... The discriminator loss: 1.3899\n",
            "158/200 The generator loss: 0.75094... The discriminator loss: 2.10276\n",
            "159/200 The generator loss: 0.70482... The discriminator loss: 1.3863\n",
            "160/200 The generator loss: 0.71748... The discriminator loss: 1.39053\n",
            "161/200 The generator loss: 0.8183... The discriminator loss: 3.02885\n",
            "162/200 The generator loss: 0.72786... The discriminator loss: 1.43785\n",
            "163/200 The generator loss: 0.71169... The discriminator loss: 1.38638\n",
            "164/200 The generator loss: 0.71825... The discriminator loss: 1.3884\n",
            "165/200 The generator loss: 0.72818... The discriminator loss: 1.81903\n",
            "166/200 The generator loss: 0.66575... The discriminator loss: 1.3872\n",
            "167/200 The generator loss: 0.73467... The discriminator loss: 1.62976\n",
            "168/200 The generator loss: 0.72358... The discriminator loss: 1.3863\n",
            "169/200 The generator loss: 0.83105... The discriminator loss: 2.12739\n",
            "170/200 The generator loss: 0.73863... The discriminator loss: 1.56176\n",
            "171/200 The generator loss: 0.7236... The discriminator loss: 1.38631\n",
            "172/200 The generator loss: 0.73047... The discriminator loss: 1.38843\n",
            "173/200 The generator loss: 0.76722... The discriminator loss: 1.6817\n",
            "174/200 The generator loss: 0.71969... The discriminator loss: 1.3863\n",
            "175/200 The generator loss: 0.7171... The discriminator loss: 1.38709\n",
            "176/200 The generator loss: 0.72736... The discriminator loss: 1.86801\n",
            "177/200 The generator loss: 0.69889... The discriminator loss: 1.38838\n",
            "178/200 The generator loss: 0.73744... The discriminator loss: 1.83999\n",
            "179/200 The generator loss: 0.74208... The discriminator loss: 1.38632\n",
            "180/200 The generator loss: 0.77331... The discriminator loss: 2.16682\n",
            "181/200 The generator loss: 0.65169... The discriminator loss: 1.38631\n",
            "182/200 The generator loss: 0.66518... The discriminator loss: 1.3885\n",
            "183/200 The generator loss: 0.72701... The discriminator loss: 1.76972\n",
            "184/200 The generator loss: 0.67296... The discriminator loss: 1.38861\n",
            "185/200 The generator loss: 0.74395... The discriminator loss: 2.08698\n",
            "186/200 The generator loss: 0.6644... The discriminator loss: 1.38796\n",
            "187/200 The generator loss: 0.75893... The discriminator loss: 2.3248\n",
            "188/200 The generator loss: 0.64737... The discriminator loss: 1.38643\n",
            "189/200 The generator loss: 0.93068... The discriminator loss: 2.26144\n",
            "190/200 The generator loss: 0.71323... The discriminator loss: 1.3863\n",
            "191/200 The generator loss: 0.73272... The discriminator loss: 1.38943\n",
            "192/200 The generator loss: 0.76406... The discriminator loss: 3.01456\n",
            "193/200 The generator loss: 0.69616... The discriminator loss: 1.39855\n",
            "194/200 The generator loss: 0.72222... The discriminator loss: 1.41553\n",
            "195/200 The generator loss: 0.7622... The discriminator loss: 1.42815\n",
            "196/200 The generator loss: 0.70731... The discriminator loss: 1.38669\n",
            "197/200 The generator loss: 0.73212... The discriminator loss: 3.27272\n",
            "198/200 The generator loss: 0.70529... The discriminator loss: 1.40314\n",
            "199/200 The generator loss: 0.72437... The discriminator loss: 1.42898\n",
            "200/200 The generator loss: 0.7489... The discriminator loss: 1.63049\n"
          ],
          "name": "stdout"
        }
      ]
    },
    {
      "cell_type": "code",
      "metadata": {
        "id": "KwKL2Ot-tzr0",
        "colab_type": "code",
        "outputId": "07f3da2a-505a-4aa0-f335-6bed56ec3333",
        "colab": {
          "base_uri": "https://localhost:8080/",
          "height": 312
        }
      },
      "source": [
        "x_axis = (range(number_of_epoch))\n",
        "\n",
        "plt.plot(x_axis, generator_loss_array, 'r', discriminator_loss_array, 'b')\n",
        "\n",
        "plt.title('A gragh of training loss vs validation loss')\n",
        "\n",
        "plt.legend(['generator_loss_array', 'discriminator_loss_array'])\n",
        "\n",
        "plt.xlabel('Number of Epochs')\n",
        "\n",
        "plt.ylabel('Generator_Loss and discriminator_loss')"
      ],
      "execution_count": 0,
      "outputs": [
        {
          "output_type": "execute_result",
          "data": {
            "text/plain": [
              "Text(0, 0.5, 'Generator_Loss and discriminator_loss')"
            ]
          },
          "metadata": {
            "tags": []
          },
          "execution_count": 73
        },
        {
          "output_type": "display_data",
          "data": {
            "image/png": "[encoded data removed]",
            "text/plain": [
              "<Figure size 432x288 with 1 Axes>"
            ]
          },
          "metadata": {
            "tags": []
          }
        }
      ]
    },
    {
      "cell_type": "code",
      "metadata": {
        "id": "LvwY2Tn6uQ53",
        "colab_type": "code",
        "colab": {}
      },
      "source": [
        "# helper function for viewing a list of passed in sample images\n",
        "def view_samples(epoch, samples):\n",
        "    fig, axes = plt.subplots(figsize=(7,7), nrows=4, ncols=4, sharey=True, sharex=True)\n",
        "    for ax, img in zip(axes.flatten(), samples[epoch]):\n",
        "        img = img.detach().cpu()\n",
        "        ax.xaxis.set_visible(False)\n",
        "        ax.yaxis.set_visible(False)\n",
        "        im = ax.imshow(img.reshape((28,28)), cmap='Greys_r')"
      ],
      "execution_count": 0,
      "outputs": []
    },
    {
      "cell_type": "code",
      "metadata": {
        "id": "3KV9Nbzdr7h5",
        "colab_type": "code",
        "colab": {}
      },
      "source": [
        "with open('image_generated.pkl', 'rb') as f:\n",
        "    generated_samples = pickle.load(f)"
      ],
      "execution_count": 0,
      "outputs": []
    },
    {
      "cell_type": "code",
      "metadata": {
        "id": "Um1fCX7QKoG0",
        "colab_type": "code",
        "outputId": "284b60b3-a63e-499e-82d9-33b0520c5082",
        "colab": {
          "base_uri": "https://localhost:8080/",
          "height": 411
        }
      },
      "source": [
        "view_samples(-1, generated_samples)"
      ],
      "execution_count": 0,
      "outputs": [
        {
          "output_type": "display_data",
          "data": {
            "image/png": "[encoded data removed]",
            "text/plain": [
              "<Figure size 504x504 with 16 Axes>"
            ]
          },
          "metadata": {
            "tags": []
          }
        }
      ]
    },
    {
      "cell_type": "code",
      "metadata": {
        "id": "6VWplUWzE83o",
        "colab_type": "code",
        "colab": {}
      },
      "source": [
        ""
      ],
      "execution_count": 0,
      "outputs": []
    }
  ]
}